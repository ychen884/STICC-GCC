{
 "cells": [
  {
   "cell_type": "code",
   "execution_count": 89,
   "metadata": {},
   "outputs": [],
   "source": [
    "import pandas as pd"
   ]
  },
  {
   "cell_type": "code",
   "execution_count": 90,
   "metadata": {},
   "outputs": [],
   "source": [
    "df = pd.read_csv(\"../joined_data/joined_data_CHR.csv\")"
   ]
  },
  {
   "cell_type": "code",
   "execution_count": 92,
   "metadata": {},
   "outputs": [],
   "source": [
    "df = df.drop('NAMELSAD', axis=1)\n",
    "df = df.drop('MTFCC', axis=1)\n",
    "df = df.drop('FUNCSTAT', axis=1)\n",
    "df = df.drop('geometry', axis=1)\n",
    "df = df.drop('pop_x', axis=1)\n",
    "df = df.drop('pop_y', axis=1)\n",
    "df = df.drop(['STATEFP', 'COUNTYFP', 'TRACTCE', 'GEOID', 'NAME', 'ALAND', 'AWATER', 'INTPTLAT', 'INTPTLON'], axis=1)\n",
    "\n"
   ]
  },
  {
   "cell_type": "code",
   "execution_count": 93,
   "metadata": {},
   "outputs": [
    {
     "name": "stdout",
     "output_type": "stream",
     "text": [
      "ct\n",
      "male\n",
      "female\n",
      "Total_x\n",
      ".50\n",
      ".50-.99\n",
      "1.00-1.24\n",
      "1.25-1.49\n",
      "1.50-1.84\n",
      "1.85-1.99\n",
      "2.00\n",
      "Total_y\n",
      "NoSchoolingCompleted\n",
      "NurserySchool\n",
      "Kindergarten\n",
      "1St_Grade\n",
      "2Nd_Grade\n",
      "3Rd_Grade\n",
      "4Th_Grade\n",
      "5Th_Grade\n",
      "6Th_Grade\n",
      "7Th_Grade\n",
      "8Th_Grade\n",
      "9Th_Grade\n",
      "10Th_Grade\n",
      "11Th_Grade\n",
      "12Th_Grade_NoDiploma\n",
      "HighSchoolDiploma\n",
      "AlternativeCredential\n",
      "College1Year\n",
      "College1MoreYears\n",
      "Associate\n",
      "Bachelor\n",
      "Master\n",
      "ProfessionalSchool\n",
      "Doctorate\n",
      "age_5\n",
      "age_5_9\n",
      "age_10_14\n",
      "age_15_17\n",
      "age_18_19\n",
      "age_20\n",
      "age_21\n",
      "age_22_24\n",
      "age_25_29\n",
      "age_30_34\n",
      "age_35_39\n",
      "age_40_44\n",
      "age_45_49\n",
      "age_50_54\n",
      "age_55_59\n",
      "age_60_61\n",
      "age_62_64\n",
      "age_65_66\n",
      "age_67_69\n",
      "age_70_74\n",
      "age_75_79\n",
      "age_80_84\n",
      "age_85\n",
      "no_health_insurance_under18\n",
      "no_health_insurance_18_34\n",
      "no_health_insurance_35_64\n",
      "no_health_insurance_65\n",
      "white\n",
      "black\n",
      "native\n",
      "asian\n",
      "hawaiian\n",
      "other\n",
      "two\n",
      "family_income\n",
      "Total\n",
      "10000\n",
      "10000-14999\n",
      "15000-19999\n",
      "20000-24999\n",
      "25000-29999\n",
      "30000-34999\n",
      "35000-39999\n",
      "40000-44999\n",
      "45000_49999\n",
      "50000-59999\n",
      "60000-74999\n",
      "75000-99999\n",
      "100000-124999\n",
      "125000-149999\n",
      "150000-199999\n",
      "200000\n",
      "household_median_income\n",
      "pop\n",
      "no_hispanic\n",
      "hispanic\n"
     ]
    }
   ],
   "source": [
    "for each in df.columns:\n",
    "    print(each)"
   ]
  },
  {
   "cell_type": "code",
   "execution_count": null,
   "metadata": {},
   "outputs": [],
   "source": [
    "df.rename(columns = {'Total_x': 'Total_poverty'}, inplace = True)\n",
    "df.rename(columns = {'Total_y': 'Total_schooling'}, inplace = True)\n",
    "df.rename(columns = {'Total': 'Total_family'}, inplace = True)\n"
   ]
  },
  {
   "cell_type": "code",
   "execution_count": 94,
   "metadata": {},
   "outputs": [],
   "source": [
    "df.to_csv(\"../joined_data/joined_data_CHR.csv\", index=False)"
   ]
  }
 ],
 "metadata": {
  "kernelspec": {
   "display_name": "Python 3.10.6 ('GCC')",
   "language": "python",
   "name": "python3"
  },
  "language_info": {
   "codemirror_mode": {
    "name": "ipython",
    "version": 3
   },
   "file_extension": ".py",
   "mimetype": "text/x-python",
   "name": "python",
   "nbconvert_exporter": "python",
   "pygments_lexer": "ipython3",
   "version": "3.10.6"
  },
  "orig_nbformat": 4,
  "vscode": {
   "interpreter": {
    "hash": "d510616a1b5fedc01e5ce5fd94415c91395caafc3bd247b33385341c37727d13"
   }
  }
 },
 "nbformat": 4,
 "nbformat_minor": 2
}
